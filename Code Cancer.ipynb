{
 "cells": [
  {
   "cell_type": "code",
   "execution_count": 1,
   "metadata": {},
   "outputs": [],
   "source": [
    "import numpy as np\n",
    "import pandas as pd\n",
    "import random as rn\n",
    "import math\n",
    "from sklearn.model_selection import train_test_split\n",
    "from sklearn.cluster import KMeans\n",
    "from sklearn.cluster import AgglomerativeClustering\n",
    "from sklearn.naive_bayes import GaussianNB\n",
    "from sklearn.neighbors import KNeighborsClassifier\n",
    "from sklearn.neural_network import MLPClassifier\n",
    "from sklearn.metrics import f1_score\n",
    "from sklearn.metrics import accuracy_score\n",
    "from sklearn.preprocessing import LabelEncoder\n",
    "from sklearn.model_selection import GridSearchCV\n",
    "from sklearn import tree\n",
    "from sklearn.ensemble import RandomForestClassifier\n",
    "from sklearn.svm import SVC # \"Support Vector Classifier\" \n",
    "from sklearn.linear_model import LogisticRegression\n",
    "#from rotation_forest import RotationTreeClassifier\n",
    "#from rotation_forest import RotationForestClassifier"
   ]
  },
  {
   "cell_type": "code",
   "execution_count": 2,
   "metadata": {},
   "outputs": [],
   "source": [
    "df = pd.read_csv(\"C:\\\\Users\\\\abhic\\\\Modelling_in_Operation_Management\\\\3-Healthcare\\\\data.csv\")"
   ]
  },
  {
   "cell_type": "code",
   "execution_count": 3,
   "metadata": {},
   "outputs": [
    {
     "data": {
      "text/html": [
       "<div>\n",
       "<style scoped>\n",
       "    .dataframe tbody tr th:only-of-type {\n",
       "        vertical-align: middle;\n",
       "    }\n",
       "\n",
       "    .dataframe tbody tr th {\n",
       "        vertical-align: top;\n",
       "    }\n",
       "\n",
       "    .dataframe thead th {\n",
       "        text-align: right;\n",
       "    }\n",
       "</style>\n",
       "<table border=\"1\" class=\"dataframe\">\n",
       "  <thead>\n",
       "    <tr style=\"text-align: right;\">\n",
       "      <th></th>\n",
       "      <th>id</th>\n",
       "      <th>diagnosis</th>\n",
       "      <th>radius_mean</th>\n",
       "      <th>texture_mean</th>\n",
       "      <th>perimeter_mean</th>\n",
       "      <th>area_mean</th>\n",
       "      <th>smoothness_mean</th>\n",
       "      <th>compactness_mean</th>\n",
       "      <th>concavity_mean</th>\n",
       "      <th>concave points_mean</th>\n",
       "      <th>...</th>\n",
       "      <th>radius_worst</th>\n",
       "      <th>texture_worst</th>\n",
       "      <th>perimeter_worst</th>\n",
       "      <th>area_worst</th>\n",
       "      <th>smoothness_worst</th>\n",
       "      <th>compactness_worst</th>\n",
       "      <th>concavity_worst</th>\n",
       "      <th>concave points_worst</th>\n",
       "      <th>symmetry_worst</th>\n",
       "      <th>fractal_dimension_worst</th>\n",
       "    </tr>\n",
       "  </thead>\n",
       "  <tbody>\n",
       "    <tr>\n",
       "      <th>0</th>\n",
       "      <td>842302</td>\n",
       "      <td>M</td>\n",
       "      <td>17.99</td>\n",
       "      <td>10.38</td>\n",
       "      <td>122.80</td>\n",
       "      <td>1001.0</td>\n",
       "      <td>0.11840</td>\n",
       "      <td>0.27760</td>\n",
       "      <td>0.3001</td>\n",
       "      <td>0.14710</td>\n",
       "      <td>...</td>\n",
       "      <td>25.38</td>\n",
       "      <td>17.33</td>\n",
       "      <td>184.60</td>\n",
       "      <td>2019.0</td>\n",
       "      <td>0.1622</td>\n",
       "      <td>0.6656</td>\n",
       "      <td>0.7119</td>\n",
       "      <td>0.2654</td>\n",
       "      <td>0.4601</td>\n",
       "      <td>0.11890</td>\n",
       "    </tr>\n",
       "    <tr>\n",
       "      <th>1</th>\n",
       "      <td>842517</td>\n",
       "      <td>M</td>\n",
       "      <td>20.57</td>\n",
       "      <td>17.77</td>\n",
       "      <td>132.90</td>\n",
       "      <td>1326.0</td>\n",
       "      <td>0.08474</td>\n",
       "      <td>0.07864</td>\n",
       "      <td>0.0869</td>\n",
       "      <td>0.07017</td>\n",
       "      <td>...</td>\n",
       "      <td>24.99</td>\n",
       "      <td>23.41</td>\n",
       "      <td>158.80</td>\n",
       "      <td>1956.0</td>\n",
       "      <td>0.1238</td>\n",
       "      <td>0.1866</td>\n",
       "      <td>0.2416</td>\n",
       "      <td>0.1860</td>\n",
       "      <td>0.2750</td>\n",
       "      <td>0.08902</td>\n",
       "    </tr>\n",
       "    <tr>\n",
       "      <th>2</th>\n",
       "      <td>84300903</td>\n",
       "      <td>M</td>\n",
       "      <td>19.69</td>\n",
       "      <td>21.25</td>\n",
       "      <td>130.00</td>\n",
       "      <td>1203.0</td>\n",
       "      <td>0.10960</td>\n",
       "      <td>0.15990</td>\n",
       "      <td>0.1974</td>\n",
       "      <td>0.12790</td>\n",
       "      <td>...</td>\n",
       "      <td>23.57</td>\n",
       "      <td>25.53</td>\n",
       "      <td>152.50</td>\n",
       "      <td>1709.0</td>\n",
       "      <td>0.1444</td>\n",
       "      <td>0.4245</td>\n",
       "      <td>0.4504</td>\n",
       "      <td>0.2430</td>\n",
       "      <td>0.3613</td>\n",
       "      <td>0.08758</td>\n",
       "    </tr>\n",
       "    <tr>\n",
       "      <th>3</th>\n",
       "      <td>84348301</td>\n",
       "      <td>M</td>\n",
       "      <td>11.42</td>\n",
       "      <td>20.38</td>\n",
       "      <td>77.58</td>\n",
       "      <td>386.1</td>\n",
       "      <td>0.14250</td>\n",
       "      <td>0.28390</td>\n",
       "      <td>0.2414</td>\n",
       "      <td>0.10520</td>\n",
       "      <td>...</td>\n",
       "      <td>14.91</td>\n",
       "      <td>26.50</td>\n",
       "      <td>98.87</td>\n",
       "      <td>567.7</td>\n",
       "      <td>0.2098</td>\n",
       "      <td>0.8663</td>\n",
       "      <td>0.6869</td>\n",
       "      <td>0.2575</td>\n",
       "      <td>0.6638</td>\n",
       "      <td>0.17300</td>\n",
       "    </tr>\n",
       "    <tr>\n",
       "      <th>4</th>\n",
       "      <td>84358402</td>\n",
       "      <td>M</td>\n",
       "      <td>20.29</td>\n",
       "      <td>14.34</td>\n",
       "      <td>135.10</td>\n",
       "      <td>1297.0</td>\n",
       "      <td>0.10030</td>\n",
       "      <td>0.13280</td>\n",
       "      <td>0.1980</td>\n",
       "      <td>0.10430</td>\n",
       "      <td>...</td>\n",
       "      <td>22.54</td>\n",
       "      <td>16.67</td>\n",
       "      <td>152.20</td>\n",
       "      <td>1575.0</td>\n",
       "      <td>0.1374</td>\n",
       "      <td>0.2050</td>\n",
       "      <td>0.4000</td>\n",
       "      <td>0.1625</td>\n",
       "      <td>0.2364</td>\n",
       "      <td>0.07678</td>\n",
       "    </tr>\n",
       "  </tbody>\n",
       "</table>\n",
       "<p>5 rows × 32 columns</p>\n",
       "</div>"
      ],
      "text/plain": [
       "         id diagnosis  radius_mean  texture_mean  perimeter_mean  area_mean  \\\n",
       "0    842302         M        17.99         10.38          122.80     1001.0   \n",
       "1    842517         M        20.57         17.77          132.90     1326.0   \n",
       "2  84300903         M        19.69         21.25          130.00     1203.0   \n",
       "3  84348301         M        11.42         20.38           77.58      386.1   \n",
       "4  84358402         M        20.29         14.34          135.10     1297.0   \n",
       "\n",
       "   smoothness_mean  compactness_mean  concavity_mean  concave points_mean  \\\n",
       "0          0.11840           0.27760          0.3001              0.14710   \n",
       "1          0.08474           0.07864          0.0869              0.07017   \n",
       "2          0.10960           0.15990          0.1974              0.12790   \n",
       "3          0.14250           0.28390          0.2414              0.10520   \n",
       "4          0.10030           0.13280          0.1980              0.10430   \n",
       "\n",
       "   ...  radius_worst  texture_worst  perimeter_worst  area_worst  \\\n",
       "0  ...         25.38          17.33           184.60      2019.0   \n",
       "1  ...         24.99          23.41           158.80      1956.0   \n",
       "2  ...         23.57          25.53           152.50      1709.0   \n",
       "3  ...         14.91          26.50            98.87       567.7   \n",
       "4  ...         22.54          16.67           152.20      1575.0   \n",
       "\n",
       "   smoothness_worst  compactness_worst  concavity_worst  concave points_worst  \\\n",
       "0            0.1622             0.6656           0.7119                0.2654   \n",
       "1            0.1238             0.1866           0.2416                0.1860   \n",
       "2            0.1444             0.4245           0.4504                0.2430   \n",
       "3            0.2098             0.8663           0.6869                0.2575   \n",
       "4            0.1374             0.2050           0.4000                0.1625   \n",
       "\n",
       "   symmetry_worst  fractal_dimension_worst  \n",
       "0          0.4601                  0.11890  \n",
       "1          0.2750                  0.08902  \n",
       "2          0.3613                  0.08758  \n",
       "3          0.6638                  0.17300  \n",
       "4          0.2364                  0.07678  \n",
       "\n",
       "[5 rows x 32 columns]"
      ]
     },
     "execution_count": 3,
     "metadata": {},
     "output_type": "execute_result"
    }
   ],
   "source": [
    "df = df.drop('Unnamed: 32', axis=1)\n",
    "df.head()"
   ]
  },
  {
   "cell_type": "code",
   "execution_count": 4,
   "metadata": {},
   "outputs": [
    {
     "name": "stdout",
     "output_type": "stream",
     "text": [
      "(569, 32)\n"
     ]
    }
   ],
   "source": [
    "print(df.shape)"
   ]
  },
  {
   "cell_type": "code",
   "execution_count": 5,
   "metadata": {},
   "outputs": [],
   "source": [
    "y = df['diagnosis']\n",
    "X = df.drop(['id','diagnosis'], axis=1)"
   ]
  },
  {
   "cell_type": "code",
   "execution_count": 6,
   "metadata": {},
   "outputs": [],
   "source": [
    "le = LabelEncoder()\n",
    "y = pd.DataFrame(le.fit_transform(y))[0]"
   ]
  },
  {
   "cell_type": "code",
   "execution_count": 7,
   "metadata": {},
   "outputs": [],
   "source": [
    "X_train, X_test, y_train, y_test = train_test_split(X, y, test_size=0.2, random_state=1)"
   ]
  },
  {
   "cell_type": "code",
   "execution_count": 8,
   "metadata": {},
   "outputs": [],
   "source": [
    "# PCA\n",
    "from sklearn.preprocessing import StandardScaler \n",
    "sc = StandardScaler() \n",
    "X_trainp = sc.fit_transform(X_train) \n",
    "X_testp = sc.transform(X_test) \n",
    "from sklearn.decomposition import PCA \n",
    "pca = PCA(n_components = 7) \n",
    "X_trainp = pca.fit_transform(X_train) \n",
    "X_testp= pca.transform(X_test) "
   ]
  },
  {
   "cell_type": "code",
   "execution_count": 12,
   "metadata": {},
   "outputs": [
    {
     "name": "stdout",
     "output_type": "stream",
     "text": [
      "Naive Bayes:\n",
      "Avg F1-Score 0.9405770627302146\n",
      "Max F1-Score 0.9737857247406666\n",
      "Min F1-Score 0.9013593586615545\n",
      "Avg Accuracy 0.9410526315789474\n",
      "Max Accuracy 0.9736842105263158\n",
      "Min Accuracy 0.9035087719298246\n"
     ]
    }
   ],
   "source": [
    "f1 = []\n",
    "acc = []\n",
    "n = 50\n",
    "print(\"Naive Bayes:\")\n",
    "for i in range(n):\n",
    "    X_train, X_test, y_train, y_test = train_test_split(X, y, test_size=0.2)\n",
    "    nb = GaussianNB()\n",
    "    nb.fit(X_train, y_train)\n",
    "    ypred = nb.predict(X_test)\n",
    "    f1.append(f1_score(y_test, ypred, average='weighted'))\n",
    "    acc.append(accuracy_score(y_test, ypred))\n",
    "print(\"Avg F1-Score\",np.mean(f1))\n",
    "print(\"Max F1-Score\",np.max(f1))\n",
    "print(\"Min F1-Score\",np.min(f1))\n",
    "print(\"Avg Accuracy\",np.mean(acc))\n",
    "print(\"Max Accuracy\",np.max(acc))\n",
    "print(\"Min Accuracy\",np.min(acc))"
   ]
  },
  {
   "cell_type": "code",
   "execution_count": 8,
   "metadata": {},
   "outputs": [
    {
     "name": "stdout",
     "output_type": "stream",
     "text": [
      "Without pca 0.9470870627956459\n",
      "With pca 0.8996627671698025\n"
     ]
    }
   ],
   "source": [
    "nb = GaussianNB()\n",
    "# without pca\n",
    "nb.fit(X_train, y_train)\n",
    "ypred = nb.predict(X_test)\n",
    "print(\"Without pca\",f1_score(y_test, ypred, average='weighted'))\n",
    "nb.fit(X_trainp, y_train)\n",
    "ypredp = nb.predict(X_testp)\n",
    "print(\"With pca\",f1_score(y_test, ypredp, average='weighted'))"
   ]
  },
  {
   "cell_type": "code",
   "execution_count": 9,
   "metadata": {},
   "outputs": [
    {
     "name": "stdout",
     "output_type": "stream",
     "text": [
      "With 0.8443374522699525\n",
      "Without 0.8443374522699525\n"
     ]
    }
   ],
   "source": [
    "kmeans = KMeans(n_clusters = 2, random_state = 0).fit(pca.fit_transform(X))\n",
    "print(\"With\",f1_score(y, kmeans.labels_, average='weighted'))\n",
    "kmeans = KMeans(n_clusters = 2, random_state = 0).fit(X)\n",
    "print(\"Without\",f1_score(y, kmeans.labels_, average='weighted'))"
   ]
  },
  {
   "cell_type": "code",
   "execution_count": 10,
   "metadata": {},
   "outputs": [
    {
     "data": {
      "text/plain": [
       "0.7483522251447848"
      ]
     },
     "execution_count": 10,
     "metadata": {},
     "output_type": "execute_result"
    }
   ],
   "source": [
    "clust = AgglomerativeClustering(n_clusters = 2).fit(X)\n",
    "f1_score(y, clust.labels_, average='weighted')"
   ]
  },
  {
   "cell_type": "code",
   "execution_count": 13,
   "metadata": {},
   "outputs": [
    {
     "name": "stdout",
     "output_type": "stream",
     "text": [
      "KNN:\n",
      "Avg F1-Score 0.9314165655401772\n",
      "Max F1-Score 0.9736401936741494\n",
      "Min F1-Score 0.873910469457975\n",
      "Avg Accuracy 0.9319298245614036\n",
      "Max Accuracy 0.9736842105263158\n",
      "Min Accuracy 0.8771929824561403\n"
     ]
    }
   ],
   "source": [
    "f1 = []\n",
    "acc = []\n",
    "n = 50\n",
    "print(\"KNN:\")\n",
    "for i in range(n):\n",
    "    X_train, X_test, y_train, y_test = train_test_split(X, y, test_size=0.2)\n",
    "    neigh = KNeighborsClassifier(n_neighbors = 5)\n",
    "    # without pca\n",
    "    neigh.fit(X_train, y_train)\n",
    "    ypred = neigh.predict(X_test)\n",
    "    f1.append(f1_score(y_test, ypred, average='weighted'))\n",
    "    acc.append(accuracy_score(y_test, ypred))\n",
    "print(\"Avg F1-Score\",np.mean(f1))\n",
    "print(\"Max F1-Score\",np.max(f1))\n",
    "print(\"Min F1-Score\",np.min(f1))\n",
    "print(\"Avg Accuracy\",np.mean(acc))\n",
    "print(\"Max Accuracy\",np.max(acc))\n",
    "print(\"Min Accuracy\",np.min(acc))"
   ]
  },
  {
   "cell_type": "code",
   "execution_count": 11,
   "metadata": {},
   "outputs": [
    {
     "name": "stdout",
     "output_type": "stream",
     "text": [
      "Without pca 0.9380859556298152\n",
      "With pca 0.9380859556298152\n"
     ]
    }
   ],
   "source": [
    "neigh = KNeighborsClassifier(n_neighbors = 5)\n",
    "# without pca\n",
    "neigh.fit(X_train, y_train)\n",
    "ypred = neigh.predict(X_test)\n",
    "print(\"Without pca\",f1_score(y_test, ypred, average='weighted'))\n",
    "# with pca\n",
    "neigh.fit(X_trainp, y_train)\n",
    "ypredp = neigh.predict(X_testp)\n",
    "print(\"With pca\",f1_score(y_test, ypredp, average='weighted'))"
   ]
  },
  {
   "cell_type": "code",
   "execution_count": 14,
   "metadata": {},
   "outputs": [
    {
     "name": "stdout",
     "output_type": "stream",
     "text": [
      "MLP:\n"
     ]
    },
    {
     "name": "stderr",
     "output_type": "stream",
     "text": [
      "C:\\ProgramData\\Anaconda3\\lib\\site-packages\\sklearn\\metrics\\classification.py:1437: UndefinedMetricWarning: F-score is ill-defined and being set to 0.0 in labels with no predicted samples.\n",
      "  'precision', 'predicted', average, warn_for)\n",
      "C:\\ProgramData\\Anaconda3\\lib\\site-packages\\sklearn\\metrics\\classification.py:1437: UndefinedMetricWarning: F-score is ill-defined and being set to 0.0 in labels with no predicted samples.\n",
      "  'precision', 'predicted', average, warn_for)\n",
      "C:\\ProgramData\\Anaconda3\\lib\\site-packages\\sklearn\\metrics\\classification.py:1437: UndefinedMetricWarning: F-score is ill-defined and being set to 0.0 in labels with no predicted samples.\n",
      "  'precision', 'predicted', average, warn_for)\n",
      "C:\\ProgramData\\Anaconda3\\lib\\site-packages\\sklearn\\metrics\\classification.py:1437: UndefinedMetricWarning: F-score is ill-defined and being set to 0.0 in labels with no predicted samples.\n",
      "  'precision', 'predicted', average, warn_for)\n"
     ]
    },
    {
     "name": "stdout",
     "output_type": "stream",
     "text": [
      "Avg F1-Score 0.8603917903449597\n",
      "Max F1-Score 0.9560099381918393\n",
      "Min F1-Score 0.1822738664843928\n",
      "Avg Accuracy 0.8749122807017542\n",
      "Max Accuracy 0.956140350877193\n",
      "Min Accuracy 0.3508771929824561\n"
     ]
    }
   ],
   "source": [
    "f1 = []\n",
    "acc = []\n",
    "n = 50\n",
    "print(\"MLP:\")\n",
    "for i in range(n):\n",
    "    X_train, X_test, y_train, y_test = train_test_split(X, y, test_size=0.2)\n",
    "    clf = MLPClassifier(solver='sgd', alpha=0.00001, hidden_layer_sizes=(5, 2), random_state=1, max_iter=1000)\n",
    "    # without pca\n",
    "    clf.fit(X_train, y_train)\n",
    "    ypred = clf.predict(X_test)\n",
    "    f1.append(f1_score(y_test, ypred, average='weighted'))\n",
    "    acc.append(accuracy_score(y_test, ypred))\n",
    "print(\"Avg F1-Score\",np.mean(f1))\n",
    "print(\"Max F1-Score\",np.max(f1))\n",
    "print(\"Min F1-Score\",np.min(f1))\n",
    "print(\"Avg Accuracy\",np.mean(acc))\n",
    "print(\"Max Accuracy\",np.max(acc))\n",
    "print(\"Min Accuracy\",np.min(acc))"
   ]
  },
  {
   "cell_type": "code",
   "execution_count": 12,
   "metadata": {},
   "outputs": [
    {
     "name": "stdout",
     "output_type": "stream",
     "text": [
      "Without pca 0.9290184921763869\n",
      "With pca 0.8900134952766531\n"
     ]
    }
   ],
   "source": [
    "clf = MLPClassifier(solver='sgd', alpha=0.00001, hidden_layer_sizes=(5, 2), random_state=1, max_iter=1000)\n",
    "# without pca\n",
    "clf.fit(X_train, y_train)\n",
    "ypred = clf.predict(X_test)\n",
    "print(\"Without pca\",f1_score(y_test, ypred, average='weighted'))\n",
    "# without pca\n",
    "clf.fit(X_trainp, y_train)\n",
    "ypredp = clf.predict(X_testp)\n",
    "print(\"With pca\",f1_score(y_test, ypredp, average='weighted'))"
   ]
  },
  {
   "cell_type": "code",
   "execution_count": 15,
   "metadata": {},
   "outputs": [
    {
     "name": "stdout",
     "output_type": "stream",
     "text": [
      "SVM:\n",
      "Avg F1-Score 0.9556066986284167\n",
      "Max F1-Score 0.9911898500306574\n",
      "Min F1-Score 0.9205740079728058\n",
      "Avg Accuracy 0.9557894736842104\n",
      "Max Accuracy 0.9912280701754386\n",
      "Min Accuracy 0.9210526315789473\n"
     ]
    }
   ],
   "source": [
    "f1 = []\n",
    "acc = []\n",
    "n = 50\n",
    "print(\"SVM:\")\n",
    "for i in range(n):\n",
    "    X_train, X_test, y_train, y_test = train_test_split(X, y, test_size=0.2)\n",
    "    svm = SVC(kernel='linear') \n",
    "    # without pca\n",
    "    svm.fit(X_train, y_train) \n",
    "    ypred = svm.predict(X_test)\n",
    "    f1.append(f1_score(y_test, ypred, average='weighted'))\n",
    "    acc.append(accuracy_score(y_test, ypred))\n",
    "print(\"Avg F1-Score\",np.mean(f1))\n",
    "print(\"Max F1-Score\",np.max(f1))\n",
    "print(\"Min F1-Score\",np.min(f1))\n",
    "print(\"Avg Accuracy\",np.mean(acc))\n",
    "print(\"Max Accuracy\",np.max(acc))\n",
    "print(\"Min Accuracy\",np.min(acc))"
   ]
  },
  {
   "cell_type": "code",
   "execution_count": 13,
   "metadata": {},
   "outputs": [
    {
     "name": "stdout",
     "output_type": "stream",
     "text": [
      "Without pca 0.9554882874504246\n",
      "With pca 0.9467638691322903\n"
     ]
    }
   ],
   "source": [
    "#SVM\n",
    "\n",
    "svm = SVC(kernel='linear') \n",
    "# without pca\n",
    "svm.fit(X_train, y_train) \n",
    "ypred = svm.predict(X_test)\n",
    "print(\"Without pca\",f1_score(y_test, ypred, average='weighted'))\n",
    "# with pca\n",
    "svm.fit(X_trainp, y_train) \n",
    "ypredp = svm.predict(X_testp)\n",
    "print(\"With pca\",f1_score(y_test, ypredp, average='weighted'))"
   ]
  },
  {
   "cell_type": "code",
   "execution_count": 22,
   "metadata": {},
   "outputs": [
    {
     "name": "stdout",
     "output_type": "stream",
     "text": [
      "Logistic:\n",
      "Avg F1-Score 0.948414260647288\n",
      "Max F1-Score 0.9824561403508771\n",
      "Min F1-Score 0.910884806954094\n",
      "Avg Accuracy 0.9485964912280701\n",
      "Max Accuracy 0.9824561403508771\n",
      "Min Accuracy 0.9122807017543859\n"
     ]
    }
   ],
   "source": [
    "f1 = []\n",
    "acc = []\n",
    "n = 50\n",
    "print(\"Logistic:\")\n",
    "for i in range(n):\n",
    "    X_train, X_test, y_train, y_test = train_test_split(X, y, test_size=0.2)\n",
    "    lr = LogisticRegression(random_state=0, solver='liblinear')\n",
    "    # without pca\n",
    "    lr.fit(X_train, y_train)\n",
    "    ypred=lr.predict(X_test)\n",
    "    f1.append(f1_score(y_test, ypred, average='weighted'))\n",
    "    acc.append(accuracy_score(y_test, ypred))\n",
    "print(\"Avg F1-Score\",np.mean(f1))\n",
    "print(\"Max F1-Score\",np.max(f1))\n",
    "print(\"Min F1-Score\",np.min(f1))\n",
    "print(\"Avg Accuracy\",np.mean(acc))\n",
    "print(\"Max Accuracy\",np.max(acc))\n",
    "print(\"Min Accuracy\",np.min(acc))"
   ]
  },
  {
   "cell_type": "code",
   "execution_count": 14,
   "metadata": {},
   "outputs": [
    {
     "name": "stdout",
     "output_type": "stream",
     "text": [
      "Without pca 0.9554882874504246\n",
      "With pca 0.9467638691322903\n"
     ]
    }
   ],
   "source": [
    "# logistic regression\n",
    "lr = LogisticRegression(random_state=0, solver='liblinear')\n",
    "# without pca\n",
    "lr.fit(X_train, y_train)\n",
    "ypred=lr.predict(X_test)\n",
    "print(\"Without pca\",f1_score(y_test, ypred, average='weighted'))\n",
    "# with pca\n",
    "lr.fit(X_trainp, y_train)\n",
    "ypredp=lr.predict(X_testp)\n",
    "print(\"With pca\",f1_score(y_test, ypredp, average='weighted'))"
   ]
  },
  {
   "cell_type": "code",
   "execution_count": 20,
   "metadata": {},
   "outputs": [
    {
     "name": "stdout",
     "output_type": "stream",
     "text": [
      "Random Forest:\n",
      "Avg F1-Score 0.9582495710739555\n",
      "Max F1-Score 0.9825957298309063\n",
      "Min F1-Score 0.9202549255687112\n",
      "Avg Accuracy 0.958421052631579\n",
      "Max Accuracy 0.9824561403508771\n",
      "Min Accuracy 0.9210526315789473\n"
     ]
    }
   ],
   "source": [
    "f1 = []\n",
    "acc = []\n",
    "n = 50\n",
    "print(\"Random Forest:\")\n",
    "for i in range(n):\n",
    "    X_train, X_test, y_train, y_test = train_test_split(X, y, test_size=0.2)\n",
    "    rf = RandomForestClassifier(n_estimators = 100, random_state = 0) \n",
    "    # without pca\n",
    "    rf.fit(X_train, y_train)\n",
    "    ypred=rf.predict(X_test)\n",
    "    f1.append(f1_score(y_test, ypred, average='weighted'))\n",
    "    acc.append(accuracy_score(y_test, ypred))\n",
    "print(\"Avg F1-Score\",np.mean(f1))\n",
    "print(\"Max F1-Score\",np.max(f1))\n",
    "print(\"Min F1-Score\",np.min(f1))\n",
    "print(\"Avg Accuracy\",np.mean(acc))\n",
    "print(\"Max Accuracy\",np.max(acc))\n",
    "print(\"Min Accuracy\",np.min(acc))"
   ]
  },
  {
   "cell_type": "code",
   "execution_count": 15,
   "metadata": {},
   "outputs": [
    {
     "name": "stdout",
     "output_type": "stream",
     "text": [
      "Without pca 0.9467638691322903\n",
      "Without pca 0.9645092460881936\n"
     ]
    }
   ],
   "source": [
    "# random forest\n",
    "rf = RandomForestClassifier(n_estimators = 100, random_state = 0) \n",
    "# without pca\n",
    "rf.fit(X_train, y_train)\n",
    "ypred=rf.predict(X_test)\n",
    "print(\"Without pca\",f1_score(y_test, ypred, average='weighted'))\n",
    "# with pca\n",
    "rf.fit(X_trainp,y_train)\n",
    "ypredp=rf.predict(X_testp)\n",
    "print(\"Without pca\",f1_score(y_test, ypredp, average='weighted'))"
   ]
  },
  {
   "cell_type": "code",
   "execution_count": 19,
   "metadata": {},
   "outputs": [
    {
     "name": "stdout",
     "output_type": "stream",
     "text": [
      "Decision Tree:\n",
      "Avg F1-Score 0.9261119610684616\n",
      "Max F1-Score 0.9737571441832094\n",
      "Min F1-Score 0.8589529379003062\n",
      "Avg Accuracy 0.926140350877193\n",
      "Max Accuracy 0.9736842105263158\n",
      "Min Accuracy 0.8596491228070176\n"
     ]
    }
   ],
   "source": [
    "f1 = []\n",
    "acc = []\n",
    "n = 50\n",
    "print(\"Decision Tree:\")\n",
    "for i in range(n):\n",
    "    X_train, X_test, y_train, y_test = train_test_split(X, y, test_size=0.2)\n",
    "    dt = tree.DecisionTreeClassifier()\n",
    "    # without pca\n",
    "    dt.fit(X_train, y_train)\n",
    "    ypred=dt.predict(X_test)\n",
    "    f1.append(f1_score(y_test, ypred, average='weighted'))\n",
    "    acc.append(accuracy_score(y_test, ypred))\n",
    "print(\"Avg F1-Score\",np.mean(f1))\n",
    "print(\"Max F1-Score\",np.max(f1))\n",
    "print(\"Min F1-Score\",np.min(f1))\n",
    "print(\"Avg Accuracy\",np.mean(acc))\n",
    "print(\"Max Accuracy\",np.max(acc))\n",
    "print(\"Min Accuracy\",np.min(acc))"
   ]
  },
  {
   "cell_type": "code",
   "execution_count": 16,
   "metadata": {},
   "outputs": [
    {
     "name": "stdout",
     "output_type": "stream",
     "text": [
      "Without pca 0.9470870627956459\n",
      "With pca 0.8842695473711037\n"
     ]
    }
   ],
   "source": [
    "# decision tree\n",
    "\n",
    "dt = tree.DecisionTreeClassifier()\n",
    "# without pca\n",
    "dt.fit(X_train, y_train)\n",
    "ypred=dt.predict(X_test)\n",
    "print(\"Without pca\",f1_score(y_test, ypred, average='weighted'))\n",
    "# with pca\n",
    "dt.fit(X_trainp,y_train)\n",
    "ypredp=dt.predict(X_testp)\n",
    "print(\"With pca\",f1_score(y_test, ypredp, average='weighted'))"
   ]
  },
  {
   "cell_type": "code",
   "execution_count": 17,
   "metadata": {},
   "outputs": [],
   "source": [
    "#temp = [None]*len(y_test)\n",
    "#X_test.insert(loc = 30, value = temp, column = 'diagnosis')"
   ]
  },
  {
   "cell_type": "code",
   "execution_count": 18,
   "metadata": {},
   "outputs": [],
   "source": [
    "df1 = pd.read_csv(\"C:\\\\Users\\\\abhic\\\\Modelling_in_Operation_Management\\\\3-Healthcare\\\\breast-cancer.data\", header=None)"
   ]
  },
  {
   "cell_type": "code",
   "execution_count": 19,
   "metadata": {},
   "outputs": [
    {
     "data": {
      "text/html": [
       "<div>\n",
       "<style scoped>\n",
       "    .dataframe tbody tr th:only-of-type {\n",
       "        vertical-align: middle;\n",
       "    }\n",
       "\n",
       "    .dataframe tbody tr th {\n",
       "        vertical-align: top;\n",
       "    }\n",
       "\n",
       "    .dataframe thead th {\n",
       "        text-align: right;\n",
       "    }\n",
       "</style>\n",
       "<table border=\"1\" class=\"dataframe\">\n",
       "  <thead>\n",
       "    <tr style=\"text-align: right;\">\n",
       "      <th></th>\n",
       "      <th>0</th>\n",
       "      <th>1</th>\n",
       "      <th>2</th>\n",
       "      <th>3</th>\n",
       "      <th>4</th>\n",
       "      <th>5</th>\n",
       "      <th>6</th>\n",
       "      <th>7</th>\n",
       "      <th>8</th>\n",
       "      <th>9</th>\n",
       "    </tr>\n",
       "  </thead>\n",
       "  <tbody>\n",
       "    <tr>\n",
       "      <th>0</th>\n",
       "      <td>no-recurrence-events</td>\n",
       "      <td>30-39</td>\n",
       "      <td>premeno</td>\n",
       "      <td>30-34</td>\n",
       "      <td>0-2</td>\n",
       "      <td>no</td>\n",
       "      <td>3</td>\n",
       "      <td>left</td>\n",
       "      <td>left_low</td>\n",
       "      <td>no</td>\n",
       "    </tr>\n",
       "    <tr>\n",
       "      <th>1</th>\n",
       "      <td>no-recurrence-events</td>\n",
       "      <td>40-49</td>\n",
       "      <td>premeno</td>\n",
       "      <td>20-24</td>\n",
       "      <td>0-2</td>\n",
       "      <td>no</td>\n",
       "      <td>2</td>\n",
       "      <td>right</td>\n",
       "      <td>right_up</td>\n",
       "      <td>no</td>\n",
       "    </tr>\n",
       "    <tr>\n",
       "      <th>2</th>\n",
       "      <td>no-recurrence-events</td>\n",
       "      <td>40-49</td>\n",
       "      <td>premeno</td>\n",
       "      <td>20-24</td>\n",
       "      <td>0-2</td>\n",
       "      <td>no</td>\n",
       "      <td>2</td>\n",
       "      <td>left</td>\n",
       "      <td>left_low</td>\n",
       "      <td>no</td>\n",
       "    </tr>\n",
       "    <tr>\n",
       "      <th>3</th>\n",
       "      <td>no-recurrence-events</td>\n",
       "      <td>60-69</td>\n",
       "      <td>ge40</td>\n",
       "      <td>15-19</td>\n",
       "      <td>0-2</td>\n",
       "      <td>no</td>\n",
       "      <td>2</td>\n",
       "      <td>right</td>\n",
       "      <td>left_up</td>\n",
       "      <td>no</td>\n",
       "    </tr>\n",
       "    <tr>\n",
       "      <th>4</th>\n",
       "      <td>no-recurrence-events</td>\n",
       "      <td>40-49</td>\n",
       "      <td>premeno</td>\n",
       "      <td>0-4</td>\n",
       "      <td>0-2</td>\n",
       "      <td>no</td>\n",
       "      <td>2</td>\n",
       "      <td>right</td>\n",
       "      <td>right_low</td>\n",
       "      <td>no</td>\n",
       "    </tr>\n",
       "  </tbody>\n",
       "</table>\n",
       "</div>"
      ],
      "text/plain": [
       "                      0      1        2      3    4   5  6      7          8  \\\n",
       "0  no-recurrence-events  30-39  premeno  30-34  0-2  no  3   left   left_low   \n",
       "1  no-recurrence-events  40-49  premeno  20-24  0-2  no  2  right   right_up   \n",
       "2  no-recurrence-events  40-49  premeno  20-24  0-2  no  2   left   left_low   \n",
       "3  no-recurrence-events  60-69     ge40  15-19  0-2  no  2  right    left_up   \n",
       "4  no-recurrence-events  40-49  premeno    0-4  0-2  no  2  right  right_low   \n",
       "\n",
       "    9  \n",
       "0  no  \n",
       "1  no  \n",
       "2  no  \n",
       "3  no  \n",
       "4  no  "
      ]
     },
     "execution_count": 19,
     "metadata": {},
     "output_type": "execute_result"
    }
   ],
   "source": [
    "df1.head()"
   ]
  },
  {
   "cell_type": "code",
   "execution_count": 20,
   "metadata": {},
   "outputs": [],
   "source": [
    "le = LabelEncoder()\n",
    "m, n = df1.shape\n",
    "for i in range(n):\n",
    "    df1.iloc[:,i] = le.fit_transform(df1.iloc[:,i])"
   ]
  },
  {
   "cell_type": "code",
   "execution_count": 41,
   "metadata": {},
   "outputs": [],
   "source": [
    "y1 = df1[9]\n",
    "X1 = df1.drop(9, axis=1)"
   ]
  },
  {
   "cell_type": "code",
   "execution_count": 42,
   "metadata": {},
   "outputs": [],
   "source": [
    "X_train1, X_test1, y_train1, y_test1 = train_test_split(X1, y1, test_size=0.2, random_state=1)"
   ]
  },
  {
   "cell_type": "code",
   "execution_count": null,
   "metadata": {},
   "outputs": [],
   "source": []
  },
  {
   "cell_type": "code",
   "execution_count": null,
   "metadata": {},
   "outputs": [],
   "source": []
  },
  {
   "cell_type": "code",
   "execution_count": 21,
   "metadata": {},
   "outputs": [],
   "source": [
    "# Bayesian Network\n",
    "from pomegranate import *\n",
    "#model = BayesianNetwork.from_samples(X_train1, algorithm='exact')\n",
    "# without pca\n",
    "#model.fit(X_train1)\n",
    "#ypred1=model.predict(X_test1)\n",
    "#print(\"Without pca\",f1_score(y_test1, ypred1, average='weighted'))\n",
    "# with pca\n",
    "#model.fit(X_trainp)\n",
    "#ypredp=model.predict(X_testp)\n",
    "#print(\"With pca\",f1_score(y_test1, ypredp, average='weighted'))"
   ]
  },
  {
   "cell_type": "code",
   "execution_count": null,
   "metadata": {},
   "outputs": [],
   "source": []
  },
  {
   "cell_type": "code",
   "execution_count": 17,
   "metadata": {},
   "outputs": [],
   "source": [
    "import numpy as np\n",
    "\n",
    "from sklearn.tree import DecisionTreeClassifier\n",
    "from sklearn.tree._tree import DTYPE\n",
    "from sklearn.ensemble.forest import ForestClassifier\n",
    "from sklearn.utils import resample, gen_batches, check_random_state\n",
    "from sklearn.decomposition import PCA\n",
    "\n",
    "\n",
    "def random_feature_subsets(array, batch_size, random_state=1234):\n",
    "    \"\"\" Generate K subsets of the features in X \"\"\"\n",
    "    random_state = check_random_state(random_state)\n",
    "    features = list(range(array.shape[1]))\n",
    "    random_state.shuffle(features)\n",
    "    for batch in gen_batches(len(features), batch_size):\n",
    "        yield features[batch]\n",
    "\n",
    "\n",
    "class RotationTreeClassifier(DecisionTreeClassifier):\n",
    "    def __init__(self,\n",
    "                 n_features_per_subset=3,\n",
    "                 rotation_algo='pca',\n",
    "                 criterion=\"gini\",\n",
    "                 splitter=\"best\",\n",
    "                 max_depth=None,\n",
    "                 min_samples_split=2,\n",
    "                 min_samples_leaf=1,\n",
    "                 min_weight_fraction_leaf=0.,\n",
    "                 max_features=1.0,\n",
    "                 random_state=None,\n",
    "                 max_leaf_nodes=None,\n",
    "                 class_weight=None,\n",
    "                 presort=False):\n",
    "\n",
    "        self.n_features_per_subset = n_features_per_subset\n",
    "        self.rotation_algo = rotation_algo\n",
    "\n",
    "        super(RotationTreeClassifier, self).__init__(\n",
    "            criterion=criterion,\n",
    "            splitter=splitter,\n",
    "            max_depth=max_depth,\n",
    "            min_samples_split=min_samples_split,\n",
    "            min_samples_leaf=min_samples_leaf,\n",
    "            min_weight_fraction_leaf=min_weight_fraction_leaf,\n",
    "            max_features=max_features,\n",
    "            max_leaf_nodes=max_leaf_nodes,\n",
    "            class_weight=class_weight,\n",
    "            random_state=random_state,\n",
    "            presort=presort)\n",
    "\n",
    "    def rotate(self, X):\n",
    "        if not hasattr(self, 'rotation_matrix'):\n",
    "            raise NotFittedError('The estimator has not been fitted')\n",
    "\n",
    "        return np.dot(X, self.rotation_matrix)\n",
    "\n",
    "    def pca_algorithm(self):\n",
    "        \"\"\" Deterimine PCA algorithm to use. \"\"\"\n",
    "        if self.rotation_algo == 'randomized':\n",
    "            return PCA(svd_solver='randomized', random_state=self.random_state)\n",
    "        elif self.rotation_algo == 'pca':\n",
    "            return PCA()\n",
    "        else:\n",
    "            raise ValueError(\"`rotation_algo` must be either \"\n",
    "                             \"'pca' or 'randomized'.\")\n",
    "\n",
    "    def _fit_rotation_matrix(self, X):\n",
    "        random_state = check_random_state(self.random_state)\n",
    "        n_samples, n_features = X.shape\n",
    "        self.rotation_matrix = np.zeros((n_features, n_features),\n",
    "                                        dtype=np.float32)\n",
    "        for i, subset in enumerate(\n",
    "                random_feature_subsets(X, self.n_features_per_subset,\n",
    "                                       random_state=self.random_state)):\n",
    "            # take a 75% bootstrap from the rows\n",
    "            x_sample = resample(X, n_samples=int(n_samples*0.75),\n",
    "                                random_state=10*i)\n",
    "            pca = self.pca_algorithm()\n",
    "            #print(x_sample[:, subset])\n",
    "            pca.fit(x_sample[:, subset])\n",
    "            self.rotation_matrix[np.ix_(subset, subset)] = pca.components_\n",
    "\n",
    "    def fit(self, X, y, sample_weight=None, check_input=True):\n",
    "        self._fit_rotation_matrix(X)\n",
    "        super(RotationTreeClassifier, self).fit(self.rotate(X), y,\n",
    "                                                sample_weight, check_input)\n",
    "\n",
    "    def predict_proba(self, X, check_input=True):\n",
    "        return  super(RotationTreeClassifier, self).predict_proba(self.rotate(X),\n",
    "                                                                  check_input)\n",
    "\n",
    "    def predict(self, X, check_input=True):\n",
    "        return super(RotationTreeClassifier, self).predict(self.rotate(X),\n",
    "                                                           check_input)\n",
    "\n",
    "    def apply(self, X, check_input=True):\n",
    "        return super(RotationTreeClassifier, self).apply(self.rotate(X),\n",
    "                                                         check_input)\n",
    "\n",
    "    def decision_path(self, X, check_input=True):\n",
    "        return super(RotationTreeClassifier, self).decision_path(self.rotate(X),\n",
    "                                                                 check_input)\n",
    "\n",
    "class RotationForestClassifier(ForestClassifier):\n",
    "    def __init__(self,\n",
    "                 n_estimators=10,\n",
    "                 criterion=\"gini\",\n",
    "                 n_features_per_subset=3,\n",
    "                 rotation_algo='pca',\n",
    "                 max_depth=None,\n",
    "                 min_samples_split=2,\n",
    "                 min_samples_leaf=1,\n",
    "                 min_weight_fraction_leaf=0.,\n",
    "                 max_features=1.0,\n",
    "                 max_leaf_nodes=None,\n",
    "                 bootstrap=False,\n",
    "                 oob_score=False,\n",
    "                 n_jobs=1,\n",
    "                 random_state=None,\n",
    "                 verbose=0,\n",
    "                 warm_start=False,\n",
    "                 class_weight=None):\n",
    "        super(RotationForestClassifier, self).__init__(\n",
    "            base_estimator=RotationTreeClassifier(),\n",
    "            n_estimators=n_estimators,\n",
    "            estimator_params=(\"n_features_per_subset\", \"rotation_algo\",\n",
    "                              \"criterion\", \"max_depth\", \"min_samples_split\",\n",
    "                              \"min_samples_leaf\", \"min_weight_fraction_leaf\",\n",
    "                              \"max_features\", \"max_leaf_nodes\",\n",
    "                              \"random_state\"),\n",
    "            bootstrap=bootstrap,\n",
    "            oob_score=oob_score,\n",
    "            n_jobs=n_jobs,\n",
    "            random_state=random_state,\n",
    "            verbose=verbose,\n",
    "            warm_start=warm_start,\n",
    "            class_weight=class_weight)\n",
    "\n",
    "        self.n_features_per_subset = n_features_per_subset\n",
    "        self.rotation_algo = rotation_algo\n",
    "        self.criterion = criterion\n",
    "        self.max_depth = max_depth\n",
    "        self.min_samples_split = min_samples_split\n",
    "        self.min_samples_leaf = min_samples_leaf\n",
    "        self.min_weight_fraction_leaf = min_weight_fraction_leaf\n",
    "        self.max_features = max_features\n",
    "        self.max_leaf_nodes = max_leaf_nodes"
   ]
  },
  {
   "cell_type": "code",
   "execution_count": null,
   "metadata": {},
   "outputs": [],
   "source": []
  },
  {
   "cell_type": "code",
   "execution_count": 74,
   "metadata": {},
   "outputs": [
    {
     "name": "stdout",
     "output_type": "stream",
     "text": [
      "F1-Score 0.9554882874504246\n",
      "Accuracy 0.956140350877193\n"
     ]
    }
   ],
   "source": [
    "# rotation forest\n",
    "rf = RotationTreeClassifier(n_features_per_subset=3)\n",
    "# without pca\n",
    "rf.fit(X_train.values, y_train)\n",
    "ypred = rf.predict(X_test)\n",
    "print(\"F1-Score\",f1_score(y_test, ypred, average='weighted'))\n",
    "print(\"Accuracy\",accuracy_score(y_test, ypred))"
   ]
  },
  {
   "cell_type": "code",
   "execution_count": 115,
   "metadata": {},
   "outputs": [
    {
     "name": "stdout",
     "output_type": "stream",
     "text": [
      "F1-Score 0.9467638691322903\n",
      "Accuracy 0.9473684210526315\n"
     ]
    }
   ],
   "source": [
    "# rotation forest\n",
    "rf = RotationForestClassifier(n_estimators=50, n_features_per_subset=3)\n",
    "# without pca\n",
    "rf.fit(X_train.values, y_train)\n",
    "ypred = rf.predict(X_test)\n",
    "print(\"F1-Score\",f1_score(y_test, ypred, average='weighted'))\n",
    "print(\"Accuracy\",accuracy_score(y_test, ypred))"
   ]
  },
  {
   "cell_type": "code",
   "execution_count": 136,
   "metadata": {},
   "outputs": [],
   "source": [
    "def fun(X, y, n, ne, nf):\n",
    "    f1 = []\n",
    "    acc = []\n",
    "    for i in range(n):\n",
    "        X_train, X_test, y_train, y_test = train_test_split(X, y, test_size=0.2)\n",
    "        # rotation forest\n",
    "        rf = RotationForestClassifier(n_estimators=ne, n_features_per_subset=nf)\n",
    "        # without pca\n",
    "        rf.fit(X_train.values, y_train)\n",
    "        ypred = rf.predict(X_test)\n",
    "        f1.append(f1_score(y_test, ypred, average='weighted'))\n",
    "        acc.append(accuracy_score(y_test, ypred))\n",
    "    print(\"Avg F1-Score\",np.mean(f1))\n",
    "    print(\"Max F1-Score\",np.max(f1))\n",
    "    print(\"Min F1-Score\",np.min(f1))\n",
    "    print(\"Avg Accuracy\",np.mean(acc))\n",
    "    print(\"Max Accuracy\",np.max(acc))\n",
    "    print(\"Min Accuracy\",np.min(acc))"
   ]
  },
  {
   "cell_type": "code",
   "execution_count": 121,
   "metadata": {},
   "outputs": [
    {
     "name": "stdout",
     "output_type": "stream",
     "text": [
      "F1-Score 0.9573211378391026\n",
      "Accuracy 0.957017543859649\n"
     ]
    }
   ],
   "source": [
    "fun(X, y, 50, 50, 3)"
   ]
  },
  {
   "cell_type": "code",
   "execution_count": null,
   "metadata": {},
   "outputs": [],
   "source": []
  },
  {
   "cell_type": "code",
   "execution_count": 160,
   "metadata": {},
   "outputs": [
    {
     "name": "stdout",
     "output_type": "stream",
     "text": [
      "Best Parameters: [31, 10]\n"
     ]
    }
   ],
   "source": [
    "parameters = {'n_estimators':list(range(1,100,5)), 'n_features_per_subset':list(range(1,30))}\n",
    "rf = RotationForestClassifier()\n",
    "grid = GridSearchCV(rf, parameters , cv=3)\n",
    "grid.fit(X_train, y_train)\n",
    "x=grid.best_params_\n",
    "sol=[x['n_estimators'],x['n_features_per_subset']]\n",
    "print(\"Best Parameters:\", sol)"
   ]
  },
  {
   "cell_type": "code",
   "execution_count": 126,
   "metadata": {},
   "outputs": [
    {
     "name": "stdout",
     "output_type": "stream",
     "text": [
      "Best Parameters: [86, 5]\n"
     ]
    }
   ],
   "source": [
    "print(\"Best Parameters:\", sol)"
   ]
  },
  {
   "cell_type": "code",
   "execution_count": 137,
   "metadata": {},
   "outputs": [
    {
     "name": "stdout",
     "output_type": "stream",
     "text": [
      "Avg F1-Score 0.9618092994006375\n",
      "Max F1-Score 0.9912412610473553\n",
      "Min F1-Score 0.920972619433514\n",
      "Avg Accuracy 0.9619298245614035\n",
      "Max Accuracy 0.9912280701754386\n",
      "Min Accuracy 0.9210526315789473\n"
     ]
    }
   ],
   "source": [
    "fun(X, y, 50, sol[0], sol[1])\n",
    "# Avg F1-Score 0.9844730924178237\n",
    "# Max F1-Score 0.9912019876383678\n",
    "# Min F1-Score 0.9823481781376517\n",
    "# Avg Accuracy 0.9845614035087717\n",
    "# Max Accuracy 0.9912280701754386\n",
    "# Min Accuracy 0.9824561403508771"
   ]
  },
  {
   "cell_type": "code",
   "execution_count": 138,
   "metadata": {},
   "outputs": [
    {
     "name": "stdout",
     "output_type": "stream",
     "text": [
      "Avg F1-Score 0.9641210356531273\n",
      "Max F1-Score 0.991255984633468\n",
      "Min F1-Score 0.9208930903769\n",
      "Avg Accuracy 0.9642105263157894\n",
      "Max Accuracy 0.9912280701754386\n",
      "Min Accuracy 0.9210526315789473\n"
     ]
    }
   ],
   "source": [
    "fun(X, y, 50, sol[0], sol[1])"
   ]
  },
  {
   "cell_type": "code",
   "execution_count": 161,
   "metadata": {},
   "outputs": [
    {
     "name": "stdout",
     "output_type": "stream",
     "text": [
      "Avg F1-Score 0.9652395711293044\n",
      "Max F1-Score 0.9912103433752112\n",
      "Min F1-Score 0.9207843137254901\n",
      "Avg Accuracy 0.9652631578947367\n",
      "Max Accuracy 0.9912280701754386\n",
      "Min Accuracy 0.9210526315789473\n"
     ]
    }
   ],
   "source": [
    "fun(X, y, 50, sol[0], sol[1])"
   ]
  },
  {
   "cell_type": "code",
   "execution_count": null,
   "metadata": {},
   "outputs": [],
   "source": []
  }
 ],
 "metadata": {
  "kernelspec": {
   "display_name": "Python 3",
   "language": "python",
   "name": "python3"
  },
  "language_info": {
   "codemirror_mode": {
    "name": "ipython",
    "version": 3
   },
   "file_extension": ".py",
   "mimetype": "text/x-python",
   "name": "python",
   "nbconvert_exporter": "python",
   "pygments_lexer": "ipython3",
   "version": "3.7.3"
  }
 },
 "nbformat": 4,
 "nbformat_minor": 4
}
